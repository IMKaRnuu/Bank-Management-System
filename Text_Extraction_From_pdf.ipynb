{
  "nbformat": 4,
  "nbformat_minor": 0,
  "metadata": {
    "colab": {
      "provenance": [],
      "collapsed_sections": [],
      "include_colab_link": true
    },
    "kernelspec": {
      "name": "python3",
      "display_name": "Python 3"
    },
    "language_info": {
      "name": "python"
    }
  },
  "cells": [
    {
      "cell_type": "markdown",
      "metadata": {
        "id": "view-in-github",
        "colab_type": "text"
      },
      "source": [
        "<a href=\"https://colab.research.google.com/github/IMKaRnuu/BBS_SparkFounsation.github.io/blob/main/Text_Extraction_From_pdf.ipynb\" target=\"_parent\"><img src=\"https://colab.research.google.com/assets/colab-badge.svg\" alt=\"Open In Colab\"/></a>"
      ]
    },
    {
      "cell_type": "code",
      "execution_count": 10,
      "metadata": {
        "colab": {
          "base_uri": "https://localhost:8080/"
        },
        "id": "X0_NkqVO49Is",
        "outputId": "53ba63ed-2330-4bae-c850-acd54935f3ef"
      },
      "outputs": [
        {
          "output_type": "stream",
          "name": "stdout",
          "text": [
            "Looking in indexes: https://pypi.org/simple, https://us-python.pkg.dev/colab-wheels/public/simple/\n",
            "Requirement already satisfied: PyPDF2 in /usr/local/lib/python3.7/dist-packages (2.11.1)\n",
            "Requirement already satisfied: typing-extensions>=3.10.0.0 in /usr/local/lib/python3.7/dist-packages (from PyPDF2) (4.1.1)\n"
          ]
        }
      ],
      "source": [
        "pip install PyPDF2"
      ]
    },
    {
      "cell_type": "code",
      "source": [
        "import PyPDF2"
      ],
      "metadata": {
        "id": "lSAfu88P5kch"
      },
      "execution_count": 11,
      "outputs": []
    },
    {
      "cell_type": "code",
      "source": [
        "#Paste You File Path\n",
        "a = PyPDF2.PdfReader('/ML Report .pdf')"
      ],
      "metadata": {
        "id": "3UwhlQ7d5e08"
      },
      "execution_count": 12,
      "outputs": []
    },
    {
      "cell_type": "code",
      "source": [
        "a.documentInfo"
      ],
      "metadata": {
        "colab": {
          "base_uri": "https://localhost:8080/"
        },
        "id": "AQugE1go50tW",
        "outputId": "c8c3d881-4028-45ad-c0e6-1cce5f255c31"
      },
      "execution_count": 13,
      "outputs": [
        {
          "output_type": "execute_result",
          "data": {
            "text/plain": [
              "{'/Title': 'Sign Language Interpreter',\n",
              " '/Author': 'apiit',\n",
              " '/Creator': 'Microsoft® Word 2010',\n",
              " '/CreationDate': \"D:20221017125234+05'30'\",\n",
              " '/ModDate': \"D:20221017125234+05'30'\",\n",
              " '/Producer': 'Microsoft® Word 2010'}"
            ]
          },
          "metadata": {},
          "execution_count": 13
        }
      ]
    },
    {
      "cell_type": "code",
      "source": [
        "a.getNumPages()"
      ],
      "metadata": {
        "colab": {
          "base_uri": "https://localhost:8080/"
        },
        "id": "kxqxkVx36Czx",
        "outputId": "efe56eac-7da0-431b-c924-46ae0e3d2bc3"
      },
      "execution_count": 14,
      "outputs": [
        {
          "output_type": "execute_result",
          "data": {
            "text/plain": [
              "19"
            ]
          },
          "metadata": {},
          "execution_count": 14
        }
      ]
    },
    {
      "cell_type": "code",
      "source": [
        "a.getPage(0)"
      ],
      "metadata": {
        "colab": {
          "base_uri": "https://localhost:8080/"
        },
        "id": "4oUAj4wy6nHf",
        "outputId": "3489795a-6df7-4196-c5f7-41548b1a8168"
      },
      "execution_count": 15,
      "outputs": [
        {
          "output_type": "execute_result",
          "data": {
            "text/plain": [
              "{'/Type': '/Page',\n",
              " '/Parent': {'/Type': '/Pages',\n",
              "  '/Count': 19,\n",
              "  '/Kids': [IndirectObject(3, 0, 139698281740688),\n",
              "   IndirectObject(14, 0, 139698281740688),\n",
              "   IndirectObject(27, 0, 139698281740688),\n",
              "   IndirectObject(29, 0, 139698281740688),\n",
              "   IndirectObject(32, 0, 139698281740688),\n",
              "   IndirectObject(33, 0, 139698281740688),\n",
              "   IndirectObject(34, 0, 139698281740688),\n",
              "   IndirectObject(46, 0, 139698281740688),\n",
              "   IndirectObject(48, 0, 139698281740688),\n",
              "   IndirectObject(50, 0, 139698281740688),\n",
              "   IndirectObject(52, 0, 139698281740688),\n",
              "   IndirectObject(54, 0, 139698281740688),\n",
              "   IndirectObject(59, 0, 139698281740688),\n",
              "   IndirectObject(64, 0, 139698281740688),\n",
              "   IndirectObject(71, 0, 139698281740688),\n",
              "   IndirectObject(73, 0, 139698281740688),\n",
              "   IndirectObject(79, 0, 139698281740688),\n",
              "   IndirectObject(85, 0, 139698281740688),\n",
              "   IndirectObject(87, 0, 139698281740688)]},\n",
              " '/Resources': {'/Font': {'/F1': {'/Type': '/Font',\n",
              "    '/Subtype': '/TrueType',\n",
              "    '/Name': '/F1',\n",
              "    '/BaseFont': '/Times New Roman',\n",
              "    '/Encoding': '/WinAnsiEncoding',\n",
              "    '/FontDescriptor': {'/Type': '/FontDescriptor',\n",
              "     '/FontName': '/Times New Roman',\n",
              "     '/Flags': 32,\n",
              "     '/ItalicAngle': 0,\n",
              "     '/Ascent': 891,\n",
              "     '/Descent': -216,\n",
              "     '/CapHeight': 693,\n",
              "     '/AvgWidth': 401,\n",
              "     '/MaxWidth': 2614,\n",
              "     '/FontWeight': 400,\n",
              "     '/XHeight': 250,\n",
              "     '/Leading': 42,\n",
              "     '/StemV': 40,\n",
              "     '/FontBBox': [-568, -216, 2046, 693]},\n",
              "    '/FirstChar': 32,\n",
              "    '/LastChar': 124,\n",
              "    '/Widths': [250,\n",
              "     333,\n",
              "     0,\n",
              "     0,\n",
              "     0,\n",
              "     833,\n",
              "     778,\n",
              "     0,\n",
              "     333,\n",
              "     333,\n",
              "     0,\n",
              "     0,\n",
              "     250,\n",
              "     333,\n",
              "     250,\n",
              "     278,\n",
              "     500,\n",
              "     500,\n",
              "     500,\n",
              "     500,\n",
              "     500,\n",
              "     500,\n",
              "     500,\n",
              "     500,\n",
              "     500,\n",
              "     500,\n",
              "     278,\n",
              "     278,\n",
              "     0,\n",
              "     0,\n",
              "     0,\n",
              "     0,\n",
              "     0,\n",
              "     722,\n",
              "     667,\n",
              "     667,\n",
              "     722,\n",
              "     611,\n",
              "     556,\n",
              "     722,\n",
              "     722,\n",
              "     333,\n",
              "     389,\n",
              "     722,\n",
              "     611,\n",
              "     889,\n",
              "     722,\n",
              "     722,\n",
              "     556,\n",
              "     0,\n",
              "     667,\n",
              "     556,\n",
              "     611,\n",
              "     722,\n",
              "     722,\n",
              "     944,\n",
              "     722,\n",
              "     722,\n",
              "     611,\n",
              "     333,\n",
              "     0,\n",
              "     333,\n",
              "     0,\n",
              "     0,\n",
              "     0,\n",
              "     444,\n",
              "     500,\n",
              "     444,\n",
              "     500,\n",
              "     444,\n",
              "     333,\n",
              "     500,\n",
              "     500,\n",
              "     278,\n",
              "     278,\n",
              "     500,\n",
              "     278,\n",
              "     778,\n",
              "     500,\n",
              "     500,\n",
              "     500,\n",
              "     500,\n",
              "     333,\n",
              "     389,\n",
              "     278,\n",
              "     500,\n",
              "     500,\n",
              "     722,\n",
              "     500,\n",
              "     500,\n",
              "     444,\n",
              "     0,\n",
              "     200]},\n",
              "   '/F2': {'/Type': '/Font',\n",
              "    '/Subtype': '/TrueType',\n",
              "    '/Name': '/F2',\n",
              "    '/BaseFont': '/Times New Roman,Bold',\n",
              "    '/Encoding': '/WinAnsiEncoding',\n",
              "    '/FontDescriptor': {'/Type': '/FontDescriptor',\n",
              "     '/FontName': '/Times New Roman,Bold',\n",
              "     '/Flags': 32,\n",
              "     '/ItalicAngle': 0,\n",
              "     '/Ascent': 891,\n",
              "     '/Descent': -216,\n",
              "     '/CapHeight': 677,\n",
              "     '/AvgWidth': 427,\n",
              "     '/MaxWidth': 2558,\n",
              "     '/FontWeight': 700,\n",
              "     '/XHeight': 250,\n",
              "     '/Leading': 42,\n",
              "     '/StemV': 42,\n",
              "     '/FontBBox': [-558, -216, 2000, 677]},\n",
              "    '/FirstChar': 32,\n",
              "    '/LastChar': 122,\n",
              "    '/Widths': [250,\n",
              "     0,\n",
              "     0,\n",
              "     0,\n",
              "     0,\n",
              "     0,\n",
              "     833,\n",
              "     0,\n",
              "     333,\n",
              "     333,\n",
              "     0,\n",
              "     0,\n",
              "     250,\n",
              "     333,\n",
              "     250,\n",
              "     278,\n",
              "     500,\n",
              "     500,\n",
              "     500,\n",
              "     500,\n",
              "     500,\n",
              "     500,\n",
              "     500,\n",
              "     0,\n",
              "     500,\n",
              "     0,\n",
              "     333,\n",
              "     0,\n",
              "     0,\n",
              "     0,\n",
              "     0,\n",
              "     0,\n",
              "     0,\n",
              "     722,\n",
              "     667,\n",
              "     722,\n",
              "     722,\n",
              "     667,\n",
              "     611,\n",
              "     778,\n",
              "     778,\n",
              "     389,\n",
              "     500,\n",
              "     778,\n",
              "     667,\n",
              "     944,\n",
              "     722,\n",
              "     778,\n",
              "     611,\n",
              "     0,\n",
              "     722,\n",
              "     556,\n",
              "     667,\n",
              "     722,\n",
              "     722,\n",
              "     1000,\n",
              "     722,\n",
              "     722,\n",
              "     0,\n",
              "     0,\n",
              "     0,\n",
              "     0,\n",
              "     0,\n",
              "     500,\n",
              "     0,\n",
              "     500,\n",
              "     556,\n",
              "     444,\n",
              "     556,\n",
              "     444,\n",
              "     333,\n",
              "     500,\n",
              "     556,\n",
              "     278,\n",
              "     333,\n",
              "     556,\n",
              "     278,\n",
              "     833,\n",
              "     556,\n",
              "     500,\n",
              "     556,\n",
              "     556,\n",
              "     444,\n",
              "     389,\n",
              "     333,\n",
              "     556,\n",
              "     500,\n",
              "     722,\n",
              "     500,\n",
              "     500,\n",
              "     444]}},\n",
              "  '/ExtGState': {'/GS7': {'/Type': '/ExtGState', '/BM': '/Normal', '/CA': 1}},\n",
              "  '/XObject': {'/Image10': {'/Type': '/XObject',\n",
              "    '/Subtype': '/Image',\n",
              "    '/Width': 177,\n",
              "    '/Height': 284,\n",
              "    '/ColorSpace': ['/Indexed',\n",
              "     '/DeviceRGB',\n",
              "     84,\n",
              "     IndirectObject(11, 0, 139698281740688)],\n",
              "    '/BitsPerComponent': 8,\n",
              "    '/Interpolate': False,\n",
              "    '/Filter': '/FlateDecode'},\n",
              "   '/Image12': {'/Type': '/XObject',\n",
              "    '/Subtype': '/Image',\n",
              "    '/Width': 272,\n",
              "    '/Height': 124,\n",
              "    '/ColorSpace': '/DeviceRGB',\n",
              "    '/BitsPerComponent': 8,\n",
              "    '/Interpolate': False,\n",
              "    '/SMask': {'/Type': '/XObject',\n",
              "     '/Subtype': '/Image',\n",
              "     '/Width': 272,\n",
              "     '/Height': 124,\n",
              "     '/ColorSpace': '/DeviceGray',\n",
              "     '/Matte': [0, 0, 0],\n",
              "     '/BitsPerComponent': 8,\n",
              "     '/Interpolate': False,\n",
              "     '/Filter': '/FlateDecode'},\n",
              "    '/Filter': '/FlateDecode'}},\n",
              "  '/ProcSet': ['/PDF', '/Text', '/ImageB', '/ImageC', '/ImageI']},\n",
              " '/MediaBox': [0, 0, 597, 843],\n",
              " '/Contents': {'/Filter': '/FlateDecode'},\n",
              " '/Group': {'/Type': '/Group', '/S': '/Transparency', '/CS': '/DeviceRGB'},\n",
              " '/Tabs': '/S',\n",
              " '/StructParents': 0}"
            ]
          },
          "metadata": {},
          "execution_count": 15
        }
      ]
    },
    {
      "cell_type": "code",
      "source": [
        "pageObj = a.getPage(0)"
      ],
      "metadata": {
        "id": "CnKyDJpL6twl"
      },
      "execution_count": 16,
      "outputs": []
    },
    {
      "cell_type": "code",
      "source": [
        "pageObj.extractText()"
      ],
      "metadata": {
        "colab": {
          "base_uri": "https://localhost:8080/",
          "height": 88
        },
        "id": "_fqtOMgq7P_o",
        "outputId": "fd5c0a5c-df1a-4255-a1bf-32f2b62860a4"
      },
      "execution_count": 17,
      "outputs": [
        {
          "output_type": "execute_result",
          "data": {
            "text/plain": [
              "' \\n1 | P a g e  \\n   \\n    Twit ter Data Analysis  \\nSubmitted in partial fulfillment of the requirements \\nof the degree  \\n     BACHELOR OF ENGINEERING IN       \\nCOMPUTER ENGINEERING  \\nBy \\n \\n \\n \\n \\n    Supervisor  \\nProf. Rahul Kapse \\n \\nDepartment of Computer Engineering  \\n MES Pillai HOC College of \\nEngineering and Technology, Rasayani      \\nUniversity of Mumbai  \\n(AY 2022 -23) \\nKaran Patil_BE_A_54  \\nOm Raut_BE_A_58  \\nSuraj Jambhale _BE_A_31  \\n '"
            ],
            "application/vnd.google.colaboratory.intrinsic+json": {
              "type": "string"
            }
          },
          "metadata": {},
          "execution_count": 17
        }
      ]
    }
  ]
}